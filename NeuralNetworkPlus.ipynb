{
 "cells": [
  {
   "cell_type": "code",
   "execution_count": 3,
   "id": "5c835e7c-9670-4913-bab0-593c1280fa3a",
   "metadata": {},
   "outputs": [],
   "source": [
    "import numpy as np\n",
    "import pandas as pd\n",
    "import matplotlib.pyplot as plt"
   ]
  },
  {
   "cell_type": "markdown",
   "id": "9983d011-f557-4784-8b5b-e2100e862602",
   "metadata": {},
   "source": [
    "## Neural Network"
   ]
  },
  {
   "cell_type": "code",
   "execution_count": 16,
   "id": "a144187a-2448-4768-bdda-c38897813b37",
   "metadata": {},
   "outputs": [],
   "source": [
    "def sigmoid(Z):\n",
    "    return 1 / (1 + np.exp(-Z))"
   ]
  },
  {
   "cell_type": "code",
   "execution_count": 17,
   "id": "cc1f366d-97f2-4f31-a069-73258efada4b",
   "metadata": {},
   "outputs": [],
   "source": [
    "def tanh(Z):\n",
    "    return np.tanh(Z)"
   ]
  },
  {
   "cell_type": "code",
   "execution_count": 18,
   "id": "72b109e1-31ca-4ff4-aa3b-4725a79a70e7",
   "metadata": {},
   "outputs": [],
   "source": [
    "def relu(Z):\n",
    "    return Z * (Z > 0)"
   ]
  },
  {
   "cell_type": "code",
   "execution_count": null,
   "id": "4637acce-e5db-4d5b-987a-aaeb24df1e35",
   "metadata": {},
   "outputs": [],
   "source": [
    "# Calls specified activation function\n",
    "def sig(Z,ty):\n",
    "    if ty == 0:\n",
    "        return sigmoid(Z)\n",
    "    if ty == 1:\n",
    "        return tanh(Z)\n",
    "    else:\n",
    "        return relu(Z)"
   ]
  },
  {
   "cell_type": "code",
   "execution_count": null,
   "id": "c9550f1e-fe8d-48da-95db-72b55415cbf3",
   "metadata": {},
   "outputs": [],
   "source": [
    "# Calls specified activation function derivative\n",
    "def sig_dv(Z,ty):\n",
    "    if ty == 0:\n",
    "        return Z*(1-Z)\n",
    "    if ty == 1:\n",
    "        return (1-Z*Z)\n",
    "    else:\n",
    "        return np.where(Z > 0, 1, 0)"
   ]
  },
  {
   "cell_type": "code",
   "execution_count": 19,
   "id": "a8a59731-eb54-491b-9328-33972a5899c0",
   "metadata": {},
   "outputs": [],
   "source": [
    "def softmax(A):\n",
    "    expA = np.exp(A)\n",
    "    return expA / expA.sum(axis=1,keepdims=True)"
   ]
  },
  {
   "cell_type": "code",
   "execution_count": 20,
   "id": "136966a8-303b-4c44-9c64-f9c048069b8e",
   "metadata": {},
   "outputs": [],
   "source": [
    "# Cost for softmax\n",
    "def cost(T,Y):\n",
    "    tot = (-T * np.log(Y))\n",
    "    return tot.sum()"
   ]
  },
  {
   "cell_type": "code",
   "execution_count": 22,
   "id": "167192e4-1dfe-47da-b0a5-d41f206b6d08",
   "metadata": {},
   "outputs": [],
   "source": [
    "def predict(Py):\n",
    "    return np.argmax(Py, axis=1)"
   ]
  },
  {
   "cell_type": "code",
   "execution_count": 25,
   "id": "297b74c2-1ec4-4541-8a6d-6d777635ce09",
   "metadata": {},
   "outputs": [],
   "source": [
    "def classification_rate(T,Y):\n",
    "    return np.mean(T == Y)"
   ]
  },
  {
   "cell_type": "code",
   "execution_count": 23,
   "id": "378b4b43-caa7-4db1-afbb-7aee40f06685",
   "metadata": {},
   "outputs": [],
   "source": [
    "def forward(M,W,b,actf):\n",
    "    for i in range(1,len(W)+1):\n",
    "        if (i != len(W)):\n",
    "            M[i] = sig((M[i-1].dot(W[i-1]) + b[i-1]), actf)\n",
    "        else:\n",
    "            M[i] = M[i-1].dot(W[i-1]) + b[i-1]\n",
    "            Y = softmax(M[i])\n",
    "    return Y,M"
   ]
  }
 ],
 "metadata": {
  "kernelspec": {
   "display_name": "Python 3 (ipykernel)",
   "language": "python",
   "name": "python3"
  },
  "language_info": {
   "codemirror_mode": {
    "name": "ipython",
    "version": 3
   },
   "file_extension": ".py",
   "mimetype": "text/x-python",
   "name": "python",
   "nbconvert_exporter": "python",
   "pygments_lexer": "ipython3",
   "version": "3.8.8"
  }
 },
 "nbformat": 4,
 "nbformat_minor": 5
}
