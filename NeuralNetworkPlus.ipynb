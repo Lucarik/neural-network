{
 "cells": [
  {
   "cell_type": "code",
   "execution_count": 26,
   "id": "5c835e7c-9670-4913-bab0-593c1280fa3a",
   "metadata": {},
   "outputs": [],
   "source": [
    "import numpy as np\n",
    "import pandas as pd\n",
    "import matplotlib.pyplot as plt"
   ]
  },
  {
   "cell_type": "markdown",
   "id": "9983d011-f557-4784-8b5b-e2100e862602",
   "metadata": {},
   "source": [
    "## Neural Network"
   ]
  },
  {
   "cell_type": "code",
   "execution_count": 27,
   "id": "63e47fc7-b846-4edb-b36c-310415b13e40",
   "metadata": {},
   "outputs": [],
   "source": [
    "class NeuralNetwork:\n",
    "    W = []\n",
    "    M = []\n",
    "    b = []\n",
    "    Yhat = []\n",
    "    costs = []\n",
    "    actf = 0\n",
    "    \n",
    "    def __sigmoid(self, Z):\n",
    "        return 1 / (1 + np.exp(-Z))\n",
    "    \n",
    "    def __tanh(self, Z):\n",
    "        return np.tanh(Z)\n",
    "    \n",
    "    def __relu(self,Z):\n",
    "        return Z * (Z > 0)\n",
    "    \n",
    "    # Calls specified activation function\n",
    "    def __sig(self,Z,ty):\n",
    "        if ty == 0:\n",
    "            return self.__sigmoid(Z)\n",
    "        if ty == 1:\n",
    "            return self.__tanh(Z)\n",
    "        else:\n",
    "            return self.__relu(Z)\n",
    "        \n",
    "        # Calls specified activation function derivative\n",
    "    def __sig_dv(self,Z,ty):\n",
    "        if ty == 0:\n",
    "            return Z*(1-Z)\n",
    "        if ty == 1:\n",
    "            return (1-Z*Z)\n",
    "        else:\n",
    "            return np.where(Z > 0, 1, 0)\n",
    "        \n",
    "    def __softmax(self,A):\n",
    "        expA = np.exp(A)\n",
    "        return expA / expA.sum(axis=1,keepdims=True)\n",
    "    \n",
    "    # Cost for softmax\n",
    "    def __cost(self,T,Y):\n",
    "        tot = (-T * np.log(Y))\n",
    "        return tot.sum()\n",
    "    \n",
    "    def classification_rate(self,T):\n",
    "        Yhat = NeuralNetwork.Yhat\n",
    "        Yp = np.argmax(Yhat,axis=1)\n",
    "        print('Classification rate: ', np.mean(T == Yp))\n",
    "    \n",
    "    # Adds hidden layer with L nodes\n",
    "    def add_layer(self,L):\n",
    "        NeuralNetwork.M.append(L)\n",
    "    \n",
    "    def __forward(self,M,W,b,actf):\n",
    "        for i in range(1,len(W)+1):\n",
    "            if (i != len(W)):\n",
    "                M[i] = self.__sig((M[i-1].dot(W[i-1]) + b[i-1]), actf)\n",
    "            else:\n",
    "                M[i] = M[i-1].dot(W[i-1]) + b[i-1]\n",
    "                Y = self.__softmax(M[i])\n",
    "        return Y,M\n",
    "    \n",
    "    def fit(self,X,y,a,n_iter,learnR,reg):\n",
    "        W = NeuralNetwork.W\n",
    "        b = NeuralNetwork.b\n",
    "        M = NeuralNetwork.M\n",
    "        NeuralNetwork.actf = a\n",
    "        \n",
    "        # Initialize layers for M\n",
    "        N = X.shape[0]\n",
    "        for i in range(len(M)):\n",
    "            M[i] = np.random.randn(N,M[i])\n",
    "            \n",
    "        K = len(set(y))\n",
    "        M.insert(0,X)\n",
    "        M.append(np.random.randn(N,K))\n",
    "        l = learnR\n",
    "        \n",
    "        # Set indicator matrix\n",
    "        Y = np.zeros((N,K))\n",
    "        for i in range(N):\n",
    "            Y[i,y[i]] = 1\n",
    "            \n",
    "        # Set weights\n",
    "        for i in range(len(M)-1):\n",
    "            if i == (len(M)-2):\n",
    "                W.append(np.random.randn(M[i].shape[1],K) / np.sqrt(M[i].shape[1] + K))\n",
    "                b.append(np.random.randn(K) / np.sqrt(K))\n",
    "            else:\n",
    "                W.append(np.random.randn(M[i].shape[1],M[i+1].shape[1]) / np.sqrt(M[i].shape[1] + M[i+1].shape[1]))\n",
    "                b.append(np.random.randn(M[i+1].shape[1]) / np.sqrt(M[i+1].shape[1]))\n",
    "                \n",
    "        costs = []\n",
    "        for e in range(n_iter):\n",
    "            Yp,Z = self.__forward(M,W,b,a)\n",
    "            cost = self.__cost(Y,Yp)\n",
    "            costs.append(cost)\n",
    "            if e % 1000 == 0:\n",
    "                print(e,cost)\n",
    "            \n",
    "            # Adjust weights\n",
    "            S = (Y - Yp)\n",
    "            n = len(M)-2\n",
    "            Zt = S\n",
    "            \n",
    "            for i in range(len(M)-1):\n",
    "                W[n] += l * (Z[n].T.dot(Zt) - reg*W[n])\n",
    "                b[n] += l * (Zt.sum() - reg*b[n])\n",
    "                \n",
    "                if i != (len(M)-2):\n",
    "                    #Update Zt\n",
    "                    Zt = Zt.dot(W[n].T)*self.__sig_dv(Z[n],a)\n",
    "            \n",
    "                n -= 1\n",
    "        NeuralNetwork.W = W\n",
    "        NeuralNetwork.b = b\n",
    "        NeuralNetwork.M = M\n",
    "        NeuralNetwork.Yhat = Yp\n",
    "        NeuralNetwork.costs = costs\n",
    "    \n",
    "    def predict(self,X):\n",
    "        W = NeuralNetwork.W\n",
    "        b = NeuralNetwork.b\n",
    "        M = NeuralNetwork.M\n",
    "        a = NeuralNetwork.actf\n",
    "        Yp,Z = self.__forward(M,W,b,a)\n",
    "        NeuralNetwork.Yhat = Yp\n",
    "        return Yp\n",
    "    \n",
    "    def plot_cost(self):\n",
    "        costs = NeuralNetwork.costs\n",
    "        plt.plot(costs)\n",
    "        plt.show()\n",
    "    \n",
    "    def reset(self):\n",
    "        NeuralNetwork.W = []\n",
    "        NeuralNetwork.b = []\n",
    "        NeuralNetwork.M = []\n",
    "        NeuralNetwork.Yhat = []\n",
    "        NeuralNetwork.costs = []"
   ]
  },
  {
   "cell_type": "markdown",
   "id": "f8d85003-c3fa-48a3-9046-8ec2fa1d8b97",
   "metadata": {},
   "source": [
    "## Training Data"
   ]
  },
  {
   "cell_type": "code",
   "execution_count": 28,
   "id": "6d82a57f-ed8a-4993-8651-5862651e8816",
   "metadata": {},
   "outputs": [],
   "source": [
    "model = NeuralNetwork()"
   ]
  },
  {
   "cell_type": "code",
   "execution_count": 29,
   "id": "07477116-5127-4983-a53a-5d24013f5af8",
   "metadata": {},
   "outputs": [],
   "source": [
    "# Tests\n",
    "Nclass = 500\n",
    "X1 = np.random.randn(Nclass, 2) + np.array([0, -2])\n",
    "X2 = np.random.randn(Nclass, 2) + np.array([2, 2])\n",
    "X3 = np.random.randn(Nclass, 2) + np.array([-2, 2])\n",
    "\n",
    "X = np.concatenate((X1,X2,X3), axis=0)\n",
    "#X = np.vstack([X1, X2, X3])\n",
    "\n",
    "X1_t = np.random.randn(Nclass, 2) + np.array([0, -2])\n",
    "X2_t = np.random.randn(Nclass, 2) + np.array([2, 2])\n",
    "X3_t = np.random.randn(Nclass, 2) + np.array([-2, 2])\n",
    "\n",
    "X_test = np.concatenate((X1_t,X2_t,X3_t), axis=0)\n",
    "\n",
    "Y = np.array([0]*Nclass + [1]*Nclass + [2]*Nclass)"
   ]
  },
  {
   "cell_type": "code",
   "execution_count": 30,
   "id": "f6328262-4763-4c09-bce2-d5facca93c73",
   "metadata": {},
   "outputs": [],
   "source": [
    "model.add_layer(4)\n",
    "model.add_layer(5)"
   ]
  },
  {
   "cell_type": "code",
   "execution_count": 35,
   "id": "fb47bcb4-7a52-47fe-877a-6753dcca6155",
   "metadata": {},
   "outputs": [
    {
     "name": "stdout",
     "output_type": "stream",
     "text": [
      "0 1121.037754183014\n",
      "1000 187.13433953851052\n",
      "2000 160.095364147221\n",
      "3000 149.6078838580812\n",
      "4000 143.94133109474504\n",
      "5000 140.3845114275548\n",
      "6000 137.95146167064672\n",
      "7000 136.19157417975703\n",
      "8000 134.8677296942572\n",
      "9000 133.84254909593255\n",
      "10000 133.03067414723023\n",
      "11000 132.3761749340921\n",
      "12000 131.84084237591253\n",
      "13000 131.39768041598182\n",
      "14000 131.02707971144667\n",
      "15000 130.71446218479912\n",
      "16000 130.44877441936487\n",
      "17000 130.2214922348739\n",
      "18000 130.0259444502527\n",
      "19000 129.8568422634429\n"
     ]
    }
   ],
   "source": [
    "# (X, Y, activation func, # iterations, learning rate, regulization)\n",
    "model.fit(X,Y,0,20000,10e-6,0)"
   ]
  },
  {
   "cell_type": "code",
   "execution_count": 37,
   "id": "3f744841-96c5-4c53-af01-def459bfb930",
   "metadata": {},
   "outputs": [
    {
     "data": {
      "text/plain": [
       "array([[9.48909711e-01, 4.98267813e-02, 1.26350802e-03],\n",
       "       [9.99984188e-01, 1.33562095e-05, 2.45577200e-06],\n",
       "       [9.79665600e-01, 2.76042998e-03, 1.75739700e-02],\n",
       "       ...,\n",
       "       [4.60846910e-06, 3.71641489e-04, 9.99623750e-01],\n",
       "       [5.31050415e-08, 1.52126707e-02, 9.84787276e-01],\n",
       "       [9.89949628e-07, 3.83379087e-02, 9.61661101e-01]])"
      ]
     },
     "execution_count": 37,
     "metadata": {},
     "output_type": "execute_result"
    }
   ],
   "source": [
    "#\n",
    "model.predict(X_test)"
   ]
  },
  {
   "cell_type": "code",
   "execution_count": 38,
   "id": "77a8e92b-4e0d-4ef5-8663-20f3919cc4c5",
   "metadata": {},
   "outputs": [
    {
     "name": "stdout",
     "output_type": "stream",
     "text": [
      "Classification rate:  0.9673333333333334\n"
     ]
    }
   ],
   "source": [
    "model.classification_rate(Y)"
   ]
  },
  {
   "cell_type": "code",
   "execution_count": 40,
   "id": "22c82e92-33ad-426a-90d4-67fb62f17300",
   "metadata": {},
   "outputs": [
    {
     "data": {
      "image/png": "[encoded data removed]",
      "text/plain": [
       "<Figure size 432x288 with 1 Axes>"
      ]
     },
     "metadata": {
      "needs_background": "light"
     },
     "output_type": "display_data"
    }
   ],
   "source": [
    "model.plot_cost()"
   ]
  },
  {
   "cell_type": "code",
   "execution_count": null,
   "id": "3c45f0df-5210-4126-b372-9e84afc232e9",
   "metadata": {},
   "outputs": [],
   "source": []
  }
 ],
 "metadata": {
  "kernelspec": {
   "display_name": "Python 3 (ipykernel)",
   "language": "python",
   "name": "python3"
  },
  "language_info": {
   "codemirror_mode": {
    "name": "ipython",
    "version": 3
   },
   "file_extension": ".py",
   "mimetype": "text/x-python",
   "name": "python",
   "nbconvert_exporter": "python",
   "pygments_lexer": "ipython3",
   "version": "3.8.8"
  }
 },
 "nbformat": 4,
 "nbformat_minor": 5
}
