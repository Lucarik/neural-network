{
 "cells": [
  {
   "cell_type": "code",
   "execution_count": 3,
   "id": "5c835e7c-9670-4913-bab0-593c1280fa3a",
   "metadata": {},
   "outputs": [],
   "source": [
    "import numpy as np\n",
    "import pandas as pd\n",
    "import matplotlib.pyplot as plt"
   ]
  },
  {
   "cell_type": "markdown",
   "id": "9983d011-f557-4784-8b5b-e2100e862602",
   "metadata": {},
   "source": [
    "## Neural Network"
   ]
  },
  {
   "cell_type": "code",
   "execution_count": null,
   "id": "63e47fc7-b846-4edb-b36c-310415b13e40",
   "metadata": {},
   "outputs": [],
   "source": [
    "class NeuralNetwork:\n",
    "    W = []\n",
    "    M = []\n",
    "    b = []\n",
    "    Yhat = []\n",
    "    costs = []\n",
    "    actf = 0\n",
    "    \n",
    "    def __sigmoid(self, Z):\n",
    "        return 1 / (1 + np.exp(-Z))\n",
    "    \n",
    "    def __tanh(self, Z):\n",
    "        return np.tanh(Z)\n",
    "    \n",
    "    def __relu(self,Z):\n",
    "        return Z * (Z > 0)\n",
    "    \n",
    "    # Calls specified activation function\n",
    "    def __sig(self,Z,ty):\n",
    "        if ty == 0:\n",
    "            return self.__sigmoid(Z)\n",
    "        if ty == 1:\n",
    "            return self.__tanh(Z)\n",
    "        else:\n",
    "            return self.__relu(Z)\n",
    "        \n",
    "        # Calls specified activation function derivative\n",
    "    def __sig_dv(self,Z,ty):\n",
    "        if ty == 0:\n",
    "            return Z*(1-Z)\n",
    "        if ty == 1:\n",
    "            return (1-Z*Z)\n",
    "        else:\n",
    "            return np.where(Z > 0, 1, 0)\n",
    "        \n",
    "    def __softmax(self,A):\n",
    "        expA = np.exp(A)\n",
    "        return expA / expA.sum(axis=1,keepdims=True)\n",
    "    \n",
    "    # Cost for softmax\n",
    "    def __cost(self,T,Y):\n",
    "        tot = (-T * np.log(Y))\n",
    "        return tot.sum()\n",
    "    \n",
    "    def predict(self,Py):\n",
    "        return np.argmax(Py, axis=1)\n",
    "    \n",
    "    def classification_rate(self,T,Y):\n",
    "        return np.mean(T == Y)\n",
    "    \n",
    "    def __forward(self,M,W,b,actf):\n",
    "        for i in range(1,len(W)+1):\n",
    "            if (i != len(W)):\n",
    "                M[i] = self.__sig((M[i-1].dot(W[i-1]) + b[i-1]), actf)\n",
    "            else:\n",
    "                M[i] = M[i-1].dot(W[i-1]) + b[i-1]\n",
    "                Y = self.__softmax(M[i])\n",
    "        return Y,M"
   ]
  },
  {
   "cell_type": "code",
   "execution_count": null,
   "id": "7ad9c977-a22c-47de-b894-73fb34e4c47e",
   "metadata": {},
   "outputs": [],
   "source": []
  }
 ],
 "metadata": {
  "kernelspec": {
   "display_name": "Python 3 (ipykernel)",
   "language": "python",
   "name": "python3"
  },
  "language_info": {
   "codemirror_mode": {
    "name": "ipython",
    "version": 3
   },
   "file_extension": ".py",
   "mimetype": "text/x-python",
   "name": "python",
   "nbconvert_exporter": "python",
   "pygments_lexer": "ipython3",
   "version": "3.8.8"
  }
 },
 "nbformat": 4,
 "nbformat_minor": 5
}
