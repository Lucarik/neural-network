{
 "cells": [
  {
   "cell_type": "code",
   "execution_count": 2,
   "id": "5c835e7c-9670-4913-bab0-593c1280fa3a",
   "metadata": {},
   "outputs": [],
   "source": [
    "import numpy as np\n",
    "import pandas as pd\n",
    "import matplotlib.pyplot as plt\n",
    "import random"
   ]
  },
  {
   "cell_type": "markdown",
   "id": "9983d011-f557-4784-8b5b-e2100e862602",
   "metadata": {},
   "source": [
    "## Neural Network"
   ]
  },
  {
   "cell_type": "code",
   "execution_count": 3,
   "id": "63e47fc7-b846-4edb-b36c-310415b13e40",
   "metadata": {},
   "outputs": [],
   "source": [
    "class NeuralNetwork:\n",
    "    # Weights\n",
    "    W = []\n",
    "    # Layers\n",
    "    M = []\n",
    "    # Bias\n",
    "    b = []\n",
    "    # Dropout percentage\n",
    "    D = []\n",
    "    # Activation function for each layer\n",
    "    A = []\n",
    "    Yhat = []\n",
    "    costs = []\n",
    "    lossType = 'ce'\n",
    "    \n",
    "    def __init__(self):\n",
    "        self.reset()\n",
    "    \n",
    "    def __sigmoid(self, Z):\n",
    "        return 1 / (1 + np.exp(-Z))\n",
    "    \n",
    "    def __tanh(self, Z):\n",
    "        return np.tanh(Z)\n",
    "    \n",
    "    def __relu(self,Z):\n",
    "        return Z * (Z > 0)\n",
    "    \n",
    "    # Calls specified activation function\n",
    "    def __actf(self,Z,ty):\n",
    "        if ty == 'sigmoid':\n",
    "            return self.__sigmoid(Z)\n",
    "        elif ty == 'tanh':\n",
    "            return self.__tanh(Z)\n",
    "        elif ty == 'softmax':\n",
    "            return self.__softmax(Z)\n",
    "        elif ty == 'none':\n",
    "            return Z\n",
    "        else:# ty == 'relu':\n",
    "            return self.__relu(Z)\n",
    "        \n",
    "        # Calls specified activation function derivative\n",
    "    def __actf_dv(self,Z,ty):\n",
    "        if ty == 'sigmoid':\n",
    "            return Z*(1-Z)\n",
    "        elif ty == 'tanh':\n",
    "            return (1-Z*Z)\n",
    "        else:# ty == 'relu':\n",
    "            return np.where(Z > 0, 1, 0)\n",
    "        \n",
    "    def __softmax(self,A):\n",
    "        expA = np.exp(A)\n",
    "        return expA / expA.sum(axis=1,keepdims=True)\n",
    "    \n",
    "    # Cross-entropy cost for softmax\n",
    "    def __cost(self,T,Y,ty):\n",
    "        if ty == 'ce':\n",
    "            return self.__cross_entropy(T,Y)\n",
    "        else:\n",
    "            return self.__sparse_cat(T,Y)\n",
    "    \n",
    "    def __cross_entropy(self,T,Y):\n",
    "        tot = (-T * np.log(Y))\n",
    "        return tot.sum()\n",
    "    \n",
    "    # Sparse categorical cross-entropy loss\n",
    "    def __sparse_cat(self, T, Y):\n",
    "        tot = 0\n",
    "        for i in range(len(Y)):\n",
    "            tot += -np.log(Y[i][T[i]])\n",
    "        return tot;\n",
    "    \n",
    "    def classification_rate(self,T):\n",
    "        Yhat = NeuralNetwork.Yhat\n",
    "        Yp = np.argmax(Yhat,axis=1)\n",
    "        print('Classification rate: ', np.mean(T == Yp))\n",
    "    \n",
    "    # Adds hidden layer with L nodes, d dropout\n",
    "    def add_layer(self,L,a='sigmoid',d=0):\n",
    "        self.M.append(L)\n",
    "        self.A.append(a)\n",
    "        d = min(d,1)\n",
    "        d = max(d, 0)\n",
    "        self.D.append(d)\n",
    "        \n",
    "    def __shuffle(self,X,Y,y):\n",
    "        assert len(X) == len(Y) == len(y)\n",
    "        p = np.random.permutation(len(X))\n",
    "        return X[p],Y[p],y[p]\n",
    "        \n",
    "            \n",
    "    # Parameters(M:Layers,W:Weights,b:bias,A:activation function,D:Dropout)\n",
    "    def __forward(self,M,W,b,A,D):\n",
    "        for i in range(1,len(W)+1):\n",
    "            #if (i != len(W)+1):\n",
    "            M[i] = self.__actf((M[i-1].dot(W[i-1]) + b[i-1]), A[i-1])\n",
    "            # Dropout\n",
    "            if (D[i-1] > 0):\n",
    "                for j in range(len(M[i])):\n",
    "                    if (random.random() < D[i-1]):\n",
    "                        M[i][j] = 0\n",
    "            #else:\n",
    "            #    M[i] = M[i-1].dot(W[i-1]) + b[i-1]\n",
    "            #    Y = self.__softmax(M[i])\n",
    "        Y = M[-1]\n",
    "        return Y,M\n",
    "    \n",
    "    def fit(self,X,y,epochs=20000,batchSize=0,learnR=10e-6,reg=0,lossType='ce',optimizer='none'):\n",
    "        W = self.W\n",
    "        b = self.b\n",
    "        M = self.M\n",
    "        A = self.A\n",
    "        D = self.D\n",
    "        #NeuralNetwork.actf = a\n",
    "        \n",
    "        \n",
    "        \n",
    "        # Initialize layers for M\n",
    "        N = X.shape[0]\n",
    "        for i in range(len(M)):\n",
    "            M[i] = np.random.randn(N,M[i])\n",
    "            \n",
    "        # Add input and output layers to M\n",
    "        K = len(set(y))\n",
    "        M.insert(0,X)\n",
    "        M.append(np.random.randn(N,K))\n",
    "        # Add softmax to end of activation functions\n",
    "        A.append('softmax')\n",
    "        D.append(0)\n",
    "        l = learnR\n",
    "        \n",
    "        # Regulate batch size\n",
    "        batchSize = min(batchSize, N)\n",
    "        batchSize = max(batchSize, 1)\n",
    "        \n",
    "        # Set indicator matrix\n",
    "        Y = np.zeros((N,K))\n",
    "        for i in range(N):\n",
    "            Y[i,y[i]] = 1\n",
    "            \n",
    "        # Set weights\n",
    "        for i in range(len(M)-1):\n",
    "            if i == (len(M)-2):\n",
    "                W.append(np.random.randn(M[i].shape[1],K) / np.sqrt(M[i].shape[1] + K))\n",
    "                b.append(np.random.randn(K) / np.sqrt(K))\n",
    "            else:\n",
    "                W.append(np.random.randn(M[i].shape[1],M[i+1].shape[1]) / np.sqrt(M[i].shape[1] + M[i+1].shape[1]))\n",
    "                b.append(np.random.randn(M[i+1].shape[1]) / np.sqrt(M[i+1].shape[1]))\n",
    "        # Set cache (if using rmsprop/adam)\n",
    "        if optimizer == 'rms':\n",
    "            wCache = []\n",
    "            bCache = []\n",
    "            eps = 10e-8\n",
    "            decay = 0.99\n",
    "            for i in range(len(M)-1):\n",
    "                if i == (len(M)-2):\n",
    "                    wCache.append(np.ones((M[i].shape[1],K)))\n",
    "                    bCache.append(np.ones((K)))\n",
    "                else:\n",
    "                    wCache.append(np.ones((M[i].shape[1],M[i+1].shape[1])))\n",
    "                    bCache.append(np.ones((M[i+1].shape[1])))\n",
    "        elif optimizer == 'adam':\n",
    "            wM = []\n",
    "            wV = []\n",
    "            bM = []\n",
    "            bV = []\n",
    "            eps = 10e-8\n",
    "            decay1 = 0.9\n",
    "            decay2 = 0.999\n",
    "            for i in range(len(M)-1):\n",
    "                if i == (len(M)-2):\n",
    "                    wM.append(np.zeros((M[i].shape[1],K)))\n",
    "                    wV.append(np.zeros((M[i].shape[1],K)))\n",
    "                    bM.append(np.zeros((K)))\n",
    "                    bV.append(np.zeros((K)))\n",
    "                else:\n",
    "                    wM.append(np.zeros((M[i].shape[1],M[i+1].shape[1])))\n",
    "                    wV.append(np.zeros((M[i].shape[1],M[i+1].shape[1])))\n",
    "                    bM.append(np.zeros((M[i+1].shape[1])))\n",
    "                    bV.append(np.zeros((M[i+1].shape[1])))\n",
    "        \n",
    "        costs = []\n",
    "        for e in range(epochs):\n",
    "            iterations = N // batchSize\n",
    "            X,Y,y = self.__shuffle(X,Y,y)\n",
    "            for i in range(iterations):\n",
    "                start = i * batchSize\n",
    "                end = (i+1) * batchSize\n",
    "                batchX, batchY, sparseY = X[start:end],Y[start:end],y[start:end]\n",
    "                del M[0]\n",
    "                M.insert(0,batchX)\n",
    "                #print(sparceY)\n",
    "                Yp,Z = self.__forward(M,W,b,A,D)\n",
    "                #cost = self.__cost(Y,Yp)\n",
    "                if lossType == 'ce':\n",
    "                    cost = self.__cost(batchY,Yp,lossType)\n",
    "                else:\n",
    "                    cost = self.__cost(sparseY,Yp,lossType)\n",
    "                costs.append(cost)\n",
    "                \n",
    "\n",
    "                # Adjust weights\n",
    "                #S = (Y - Yp)\n",
    "                S = (batchY - Yp)\n",
    "                n = len(M)-2\n",
    "                Zt = S\n",
    "                for i in range(len(M)-1):\n",
    "                    # Weight and bias derivative\n",
    "                    dw = Z[n].T.dot(Zt)\n",
    "                    db = Zt.sum()\n",
    "                    if optimizer == 'none': \n",
    "                        W[n] += l * (dw - reg*W[n])\n",
    "                        b[n] += l * (db - reg*b[n])\n",
    "                    elif optimizer == 'rms':\n",
    "                        # rmsprop\n",
    "                        wCache[n] = (decay * wCache[n]) + (1-decay) * np.square(dw)\n",
    "                        bCache[n] = (decay * bCache[n]) + (1-decay) * np.square(db)\n",
    "                        wDenominator = np.sqrt(wCache[n]) + eps\n",
    "                        bDenominator = np.sqrt(bCache[n]) + eps\n",
    "                        \n",
    "                        W[n] += l * ((dw/wDenominator) - reg*W[n])\n",
    "                        b[n] += l * ((db/bDenominator) - reg*b[n])\n",
    "                    elif optimizer == 'adam':\n",
    "                        \n",
    "                        #print(wM.shape)\n",
    "                        wM[n] = (decay1 * wM[n]) + (1-decay1) * dw\n",
    "                        wV[n] = (decay1 * wV[n]) + (1-decay1) * np.square(dw)\n",
    "                        bM[n] = (decay2 * bM[n]) + (1-decay2) * db\n",
    "                        bV[n] = (decay2 * bV[n]) + (1-decay2) * np.square(db)\n",
    "                        wMhat = wM[n]/(1-decay1**(epochs+1))\n",
    "                        wVhat = wV[n]/(1-decay1**(epochs+1))\n",
    "                        bMhat = bM[n]/(1-decay2**(epochs+1))\n",
    "                        bVhat = bV[n]/(1-decay2**(epochs+1))\n",
    "                        wDenom = np.sqrt(wVhat) + eps\n",
    "                        bDenom = np.sqrt(bVhat) + eps\n",
    "                        #print(W[n].shape, wM[n].shape, wDenom.shape)\n",
    "                        W[n] += l * ((wMhat/wDenom) - reg*W[n])\n",
    "                        b[n] += l * ((bMhat/bDenom) - reg*b[n])\n",
    "\n",
    "                    if i != (len(M)-2):\n",
    "                        #Update Zt\n",
    "                        Zt = Zt.dot(W[n].T)*self.__actf_dv(Z[n],A[n-1])\n",
    "\n",
    "                    n -= 1\n",
    "            if e % 1000 == 0:\n",
    "                print(e,costs[-1])\n",
    "        self.W = W\n",
    "        self.b = b\n",
    "        self.M = M\n",
    "        self.Yhat = Yp\n",
    "        self.costs = costs\n",
    "    \n",
    "    def predict(self,X):\n",
    "        W = self.W\n",
    "        b = self.b\n",
    "        M = self.M\n",
    "        A = self.A\n",
    "        #a = NeuralNetwork.actf\n",
    "        D = self.D\n",
    "        del M[0]\n",
    "        M.insert(0,X)\n",
    "        Yp,Z = self.__forward(M,W,b,A,D)\n",
    "        NeuralNetwork.Yhat = Yp\n",
    "        return Yp\n",
    "    \n",
    "    def plot_cost(self):\n",
    "        costs = self.costs\n",
    "        plt.plot(costs)\n",
    "        plt.show()\n",
    "    \n",
    "    def reset(self):\n",
    "        self.W = []\n",
    "        self.b = []\n",
    "        self.M = []\n",
    "        self.A = []\n",
    "        self.D = []\n",
    "        self.lossType = 'ce'\n",
    "        self.optimizer = 'none'\n",
    "        self.Yhat = []\n",
    "        self.costs = []"
   ]
  },
  {
   "cell_type": "markdown",
   "id": "f8d85003-c3fa-48a3-9046-8ec2fa1d8b97",
   "metadata": {},
   "source": [
    "## Training Data"
   ]
  },
  {
   "cell_type": "code",
   "execution_count": 8,
   "id": "6d82a57f-ed8a-4993-8651-5862651e8816",
   "metadata": {},
   "outputs": [],
   "source": [
    "model = NeuralNetwork()"
   ]
  },
  {
   "cell_type": "code",
   "execution_count": 9,
   "id": "07477116-5127-4983-a53a-5d24013f5af8",
   "metadata": {},
   "outputs": [],
   "source": [
    "# Tests\n",
    "Nclass = 500\n",
    "X1 = np.random.randn(Nclass, 2) + np.array([0, -2])\n",
    "X2 = np.random.randn(Nclass, 2) + np.array([2, 2])\n",
    "X3 = np.random.randn(Nclass, 2) + np.array([-2, 2])\n",
    "\n",
    "X = np.concatenate((X1,X2,X3), axis=0)\n",
    "#X = np.vstack([X1, X2, X3])\n",
    "\n",
    "X1_t = np.random.randn(Nclass, 2) + np.array([0, -2])\n",
    "X2_t = np.random.randn(Nclass, 2) + np.array([2, 2])\n",
    "X3_t = np.random.randn(Nclass, 2) + np.array([-2, 2])\n",
    "\n",
    "X_test = np.concatenate((X1_t,X2_t,X3_t), axis=0)\n",
    "\n",
    "Y = np.array([0]*Nclass + [1]*Nclass + [2]*Nclass)"
   ]
  },
  {
   "cell_type": "code",
   "execution_count": 10,
   "id": "f6328262-4763-4c09-bce2-d5facca93c73",
   "metadata": {},
   "outputs": [],
   "source": [
    "model.add_layer(4,'relu')\n",
    "model.add_layer(5)"
   ]
  },
  {
   "cell_type": "code",
   "execution_count": 11,
   "id": "fb47bcb4-7a52-47fe-877a-6753dcca6155",
   "metadata": {
    "tags": []
   },
   "outputs": [
    {
     "name": "stdout",
     "output_type": "stream",
     "text": [
      "0 1716.6486997127536\n",
      "1000 111.87706910074827\n",
      "2000 107.15339390223295\n",
      "3000 105.87234227153182\n",
      "4000 103.18008513442614\n",
      "5000 101.70277000063098\n",
      "6000 100.35929517786033\n",
      "7000 99.09623758804018\n",
      "8000 97.40108884371078\n",
      "9000 96.6725051535109\n",
      "10000 96.25861845723045\n",
      "11000 96.00294310403437\n",
      "12000 95.86367185527524\n",
      "13000 95.76413854244656\n",
      "14000 95.3465101792868\n",
      "15000 94.95418844734579\n",
      "16000 94.69947571073799\n",
      "17000 94.52196575104118\n",
      "18000 94.31589662663534\n",
      "19000 94.13755253015542\n"
     ]
    }
   ],
   "source": [
    "# (X, Y, loss type, # iterations, batch size, learning rate, regulization)\n",
    "# Loss type('ce': cross-entropy, 'sce': sparse cross-entropy)\n",
    "lossType = 'ce'\n",
    "epochs = 20000\n",
    "batchSize = X.shape[0]\n",
    "learnR = 10e-4\n",
    "reg = 0\n",
    "optimizer = 'adam'\n",
    "model.fit(X,Y,epochs,batchSize,learnR,lossType=lossType,optimizer=optimizer)"
   ]
  },
  {
   "cell_type": "code",
   "execution_count": 12,
   "id": "3f744841-96c5-4c53-af01-def459bfb930",
   "metadata": {},
   "outputs": [
    {
     "data": {
      "text/plain": [
       "array([[9.99952139e-01, 2.83294952e-05, 1.95317998e-05],\n",
       "       [9.99944292e-01, 3.45508577e-05, 2.11569121e-05],\n",
       "       [9.92838468e-01, 6.98296322e-03, 1.78568824e-04],\n",
       "       ...,\n",
       "       [2.78009189e-05, 1.16224639e-05, 9.99960577e-01],\n",
       "       [7.24655817e-05, 9.84884785e-01, 1.50427498e-02],\n",
       "       [2.61038479e-05, 1.15376021e-05, 9.99962359e-01]])"
      ]
     },
     "execution_count": 12,
     "metadata": {},
     "output_type": "execute_result"
    }
   ],
   "source": [
    "#\n",
    "model.predict(X_test)"
   ]
  },
  {
   "cell_type": "code",
   "execution_count": 103,
   "id": "00bdfcf6-829d-420c-bcc7-6ed32d35a793",
   "metadata": {},
   "outputs": [
    {
     "data": {
      "text/plain": [
       "(128, 3)"
      ]
     },
     "execution_count": 103,
     "metadata": {},
     "output_type": "execute_result"
    }
   ],
   "source": [
    "model.Yhat.shape"
   ]
  },
  {
   "cell_type": "code",
   "execution_count": 104,
   "id": "77a8e92b-4e0d-4ef5-8663-20f3919cc4c5",
   "metadata": {},
   "outputs": [
    {
     "name": "stdout",
     "output_type": "stream",
     "text": [
      "Classification rate:  0.9746666666666667\n"
     ]
    }
   ],
   "source": [
    "model.classification_rate(Y)"
   ]
  },
  {
   "cell_type": "code",
   "execution_count": 252,
   "id": "22c82e92-33ad-426a-90d4-67fb62f17300",
   "metadata": {},
   "outputs": [
    {
     "data": {
      "image/png": "[encoded data removed]",
      "text/plain": [
       "<Figure size 432x288 with 1 Axes>"
      ]
     },
     "metadata": {
      "needs_background": "light"
     },
     "output_type": "display_data"
    }
   ],
   "source": [
    "model.plot_cost()"
   ]
  },
  {
   "cell_type": "markdown",
   "id": "7750dd86-0e4f-4dcb-9194-ec74cef196af",
   "metadata": {},
   "source": [
    "## Mnist Dataset"
   ]
  },
  {
   "cell_type": "code",
   "execution_count": 3,
   "id": "aaa570b3-5a94-48b0-ae09-e4ccabec120a",
   "metadata": {},
   "outputs": [],
   "source": [
    "import tensorflow as tf"
   ]
  },
  {
   "cell_type": "code",
   "execution_count": 4,
   "id": "87f39572-03f9-4654-9250-b53c0a249149",
   "metadata": {},
   "outputs": [],
   "source": [
    "mnist = tf.keras.datasets.mnist"
   ]
  },
  {
   "cell_type": "code",
   "execution_count": 5,
   "id": "0c25575c-cae0-4e49-b770-80521090addf",
   "metadata": {},
   "outputs": [],
   "source": [
    "(x_train, y_train), (x_test, y_test) = mnist.load_data()\n",
    "x_train, x_test = x_train / 255.0, x_test / 255.0"
   ]
  },
  {
   "cell_type": "code",
   "execution_count": 6,
   "id": "649b1775-3dc4-4a49-b2bd-64990b5a686f",
   "metadata": {},
   "outputs": [
    {
     "data": {
      "text/plain": [
       "(60000, 28, 28)"
      ]
     },
     "execution_count": 6,
     "metadata": {},
     "output_type": "execute_result"
    }
   ],
   "source": [
    "x_train.shape"
   ]
  },
  {
   "cell_type": "code",
   "execution_count": 7,
   "id": "1d7a49c4-c503-4b2d-a1c0-269cb19050d8",
   "metadata": {},
   "outputs": [],
   "source": [
    "xtf = x_train.copy()\n",
    "xtf = xtf.reshape(60000,784)"
   ]
  },
  {
   "cell_type": "code",
   "execution_count": 8,
   "id": "0d30b8d8-8bee-45c3-a66e-7fb7225b14ae",
   "metadata": {},
   "outputs": [
    {
     "data": {
      "text/plain": [
       "(60000, 784)"
      ]
     },
     "execution_count": 8,
     "metadata": {},
     "output_type": "execute_result"
    }
   ],
   "source": [
    "xtf.shape"
   ]
  },
  {
   "cell_type": "code",
   "execution_count": 9,
   "id": "87c3af57-2d3c-46cc-919e-36965fd8bfc4",
   "metadata": {},
   "outputs": [],
   "source": [
    "model = NeuralNetwork()"
   ]
  },
  {
   "cell_type": "code",
   "execution_count": 10,
   "id": "6d9df199-e901-4260-9d1f-e7a3063d45c1",
   "metadata": {},
   "outputs": [],
   "source": [
    "model.add_layer(50,'relu',.2)\n",
    "model.add_layer(50,'relu',.2)"
   ]
  },
  {
   "cell_type": "code",
   "execution_count": null,
   "id": "9992d533-e2f2-4d64-8b37-68274444f1de",
   "metadata": {
    "tags": []
   },
   "outputs": [
    {
     "name": "stdout",
     "output_type": "stream",
     "text": [
      "0 296.2532844750522\n",
      "1000 111.73926422829251\n",
      "2000 99.08099237674831\n",
      "3000 101.48448077056233\n",
      "4000 94.43363093435501\n",
      "5000 84.83576032259359\n",
      "6000 90.22401514785915\n",
      "7000 99.83483220346677\n",
      "8000 86.85053742314096\n",
      "9000 101.67998596776991\n",
      "10000 116.76612136851338\n",
      "11000 124.51370659582938\n",
      "12000 119.47471088132421\n",
      "13000 94.96320464183313\n",
      "14000 109.51411939981088\n"
     ]
    }
   ],
   "source": [
    "# (X, Y, epochs, batch size, learning rate, regulization)\n",
    "lossType = 'sce'\n",
    "optimizer = 'adam'\n",
    "batchSize = 128\n",
    "epochs = 20000\n",
    "model.fit(xtf,y_train,epochs,batchSize,lossType=lossType,optimizer=optimizer)"
   ]
  },
  {
   "cell_type": "code",
   "execution_count": 66,
   "id": "9e5912b2-8687-46b3-a637-2d4b185ff7ab",
   "metadata": {},
   "outputs": [
    {
     "data": {
      "text/plain": [
       "array([5, 0, 4, ..., 5, 6, 8], dtype=uint8)"
      ]
     },
     "execution_count": 66,
     "metadata": {},
     "output_type": "execute_result"
    }
   ],
   "source": [
    "y_train"
   ]
  },
  {
   "cell_type": "code",
   "execution_count": null,
   "id": "33abbda7-1259-418b-8124-607618031bce",
   "metadata": {},
   "outputs": [],
   "source": [
    "gc.collect()\n",
    "%reset -f"
   ]
  },
  {
   "cell_type": "code",
   "execution_count": null,
   "id": "44585160-8de6-4e0f-82e8-16514e1d6a06",
   "metadata": {},
   "outputs": [],
   "source": []
  }
 ],
 "metadata": {
  "kernelspec": {
   "display_name": "Python 3 (ipykernel)",
   "language": "python",
   "name": "python3"
  },
  "language_info": {
   "codemirror_mode": {
    "name": "ipython",
    "version": 3
   },
   "file_extension": ".py",
   "mimetype": "text/x-python",
   "name": "python",
   "nbconvert_exporter": "python",
   "pygments_lexer": "ipython3",
   "version": "3.8.8"
  }
 },
 "nbformat": 4,
 "nbformat_minor": 5
}
